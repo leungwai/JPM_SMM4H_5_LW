{
 "cells": [
  {
   "cell_type": "markdown",
   "metadata": {},
   "source": [
    "Leung Wai Liu <br>\n",
    "JPMC-SMM4H <br>\n",
    "July 14, 2022 <br>\n",
    "Task 5 Unweighted Average Ensembling"
   ]
  },
  {
   "cell_type": "code",
   "execution_count": 1,
   "metadata": {},
   "outputs": [],
   "source": [
    "import pandas as pd\n",
    "import numpy as np\n",
    "from collections import Counter\n",
    "from labels_to_ids import task7_labels_to_ids\n",
    "from sklearn.metrics import accuracy_score, classification_report, f1_score, precision_score, recall_score, confusion_matrix\n",
    "import os"
   ]
  },
  {
   "cell_type": "code",
   "execution_count": 2,
   "metadata": {},
   "outputs": [],
   "source": [
    "# Loading up all the predictions data\n",
    "\n",
    "n_rnds = 5\n",
    "original_df = pd.read_csv('../Datasets/dev.tsv', sep='\\t')\n",
    "models = ['dccuchile/bert-base-spanish-wwm-uncased', 'dccuchile/bert-base-spanish-wwm-cased', 'xlm-roberta-base', 'bert-base-multilingual-uncased', 'bert-base-multilingual-cased']\n",
    "n_models = len(models)\n",
    "\n",
    "epoch_string = '../15_epochs_small_model/saved_data_5'\n",
    "n_rows = len(original_df)\n",
    "\n",
    "labels_to_ids = task7_labels_to_ids\n",
    "ids_to_labels = dict((v,k) for k,v in labels_to_ids.items())\n",
    "\n"
   ]
  },
  {
   "cell_type": "code",
   "execution_count": 3,
   "metadata": {},
   "outputs": [],
   "source": [
    "# Retrieving all the predictions from the \n",
    "list_of_df = []\n",
    "\n",
    "for model in models: \n",
    "    specific_model_row = []\n",
    "    for rnd in range(n_rnds):\n",
    "        to_read_string = epoch_string + '/' + model + '/' + str(rnd) + '/unformatted_result.tsv'\n",
    "            \n",
    "        particular_model_df = pd.read_csv(to_read_string, sep='\\t')\n",
    "        specific_model_row.append(particular_model_df)\n",
    "    \n",
    "    list_of_df.append(specific_model_row)"
   ]
  },
  {
   "cell_type": "code",
   "execution_count": 4,
   "metadata": {},
   "outputs": [],
   "source": [
    "# TAKING THE UNWEIGHTED AVERAGE OF DATA\n",
    "\n",
    "uw_avg_original_tweet_id_list = []\n",
    "uw_avg_original_sentence_list = []\n",
    "uw_avg_original_label_list = []\n",
    "uw_avg_original_numbered_label_list = []\n",
    "\n",
    "uw_avg_predicted_number_results = []\n",
    "uw_avg_predicted_results = []\n",
    "\n",
    "\n",
    "for index, row in original_df.iterrows(): \n",
    "    # getting the original values in the tweet\n",
    "    original_tweet_id = row['tweet_id']\n",
    "    original_sentence = row['tweet_text']\n",
    "    original_label = row['label']\n",
    "    \n",
    "    # transferring the labels over to final list\n",
    "    uw_avg_original_tweet_id_list.append(original_tweet_id)\n",
    "    uw_avg_original_sentence_list.append(original_sentence)\n",
    "    uw_avg_original_label_list.append(original_label)\n",
    "    \n",
    "    specific_row_value = 0\n",
    "    # go through every models' row of data \n",
    "    \n",
    "    for model_num in range(n_models):\n",
    "        for rnd_num in range(n_rnds):\n",
    "            # print(list_of_df[model_num][rnd_num])\n",
    "            row = list_of_df[model_num][rnd_num].loc[(list_of_df[model_num][rnd_num]['tweet_id'] == original_tweet_id) & (list_of_df[model_num][rnd_num]['text'] == original_sentence)]\n",
    "            \n",
    "            prediction = labels_to_ids[row['label'].values[0]]\n",
    "            specific_row_value += prediction\n",
    "\n",
    "    specific_row_value = specific_row_value / 25\n",
    "    specific_row_result = int(round(specific_row_value))\n",
    "    uw_avg_predicted_results.append(ids_to_labels[specific_row_result])\n",
    "    "
   ]
  },
  {
   "cell_type": "code",
   "execution_count": 5,
   "metadata": {},
   "outputs": [
    {
     "name": "stdout",
     "output_type": "stream",
     "text": [
      "ACCURACY: 0.8405970149253731\n",
      "F1: 0.7452229299363057\n",
      "PRECISION: 0.6603951081843838\n",
      "RECALL 0.8550548112058465\n"
     ]
    }
   ],
   "source": [
    "# Calculating sklearn metrics\n",
    "\n",
    "uw_avg_original_numbered_label_list = [labels_to_ids[label] for label in uw_avg_original_label_list]\n",
    "uw_avg_predicted_number_results = [labels_to_ids[label] for label in uw_avg_predicted_results]\n",
    "\n",
    "accuracy_result = accuracy_score(uw_avg_original_numbered_label_list, uw_avg_predicted_number_results)\n",
    "f1_result = f1_score(uw_avg_original_numbered_label_list, uw_avg_predicted_number_results, labels=[0], average=None)[0]\n",
    "precision_result = precision_score(uw_avg_original_numbered_label_list, uw_avg_predicted_number_results, labels=[0], average=None)[0]\n",
    "recall_result = recall_score(uw_avg_original_numbered_label_list, uw_avg_predicted_number_results, labels=[0], average=None)[0]\n",
    "\n",
    "confusion_matrix_result = confusion_matrix(uw_avg_original_numbered_label_list, uw_avg_predicted_number_results)\n",
    "classification_result = classification_report(uw_avg_original_numbered_label_list, uw_avg_predicted_number_results, output_dict=True)\n",
    "\n",
    "print(\"ACCURACY:\", accuracy_result)\n",
    "print(\"F1:\", f1_result)\n",
    "print(\"PRECISION:\", precision_result)\n",
    "print(\"RECALL\", recall_result)\n",
    "\n",
    "# Saving results to file\n",
    "os.makedirs('../15_epochs_small_model/validating_statistics/uw_avg_ensemble', exist_ok=True)\n",
    "\n",
    "with open('../15_epochs_small_model/validating_statistics/uw_avg_ensemble/uw_avg_ensemble_valid_stats.txt', 'w') as file:\n",
    "        file.write(\"Accuracy: \" + str(accuracy_result) + \"\\n\")\n",
    "        file.write(\"F1 Score (of self_reports): \" + str(f1_result) + \"\\n\")\n",
    "        file.write(\"Precison Score (of self_reports): \" + str(precision_result) + \"\\n\")\n",
    "        file.write(\"Recall result (of self_reports): \" + str(recall_result) + \"\\n\")\n",
    "\n",
    "\n",
    "cm_df = pd.DataFrame(confusion_matrix_result)\n",
    "cr_df = pd.DataFrame(classification_result).transpose()\n",
    "\n",
    "cm_df.to_csv('../15_epochs_small_model/validating_statistics/uw_avg_ensemble/uw_avg_confusion_matrix.tsv', sep='\\t')\n",
    "cr_df.to_csv('../15_epochs_small_model/validating_statistics/uw_avg_ensemble/uw_avg_classification_report.tsv', sep='\\t')\n",
    "\n",
    "\n"
   ]
  },
  {
   "cell_type": "code",
   "execution_count": 6,
   "metadata": {},
   "outputs": [],
   "source": [
    "# Saving it as a dataframe\n",
    "unformatted_uw_avg_prediction_data = pd.DataFrame(zip(uw_avg_original_tweet_id_list, uw_avg_original_sentence_list, uw_avg_original_label_list, uw_avg_predicted_results), columns=['tweet_id', 'text', 'Orig', 'label'])\n",
    "formatted_uw_avg_prediction_data = unformatted_uw_avg_prediction_data.drop(columns = ['Orig'])\n",
    "\n",
    "# Saving it as a tsv file\n",
    "os.makedirs('../15_epochs_small_model/validating_statistics/', exist_ok=True)\n",
    "unformatted_uw_avg_prediction_data.to_csv('../15_epochs_small_model/validating_statistics/uw_avg_ensemble/unformatted_uw_avg_data.tsv', sep='\\t', index=False)\n",
    "formatted_uw_avg_prediction_data.to_csv('../15_epochs_small_model/validating_statistics/uw_avg_ensemble/formatted_uw_avg_data.tsv', sep='\\t', index=False)"
   ]
  }
 ],
 "metadata": {
  "kernelspec": {
   "display_name": "Python 3.6.9 64-bit",
   "language": "python",
   "name": "python3"
  },
  "language_info": {
   "codemirror_mode": {
    "name": "ipython",
    "version": 3
   },
   "file_extension": ".py",
   "mimetype": "text/x-python",
   "name": "python",
   "nbconvert_exporter": "python",
   "pygments_lexer": "ipython3",
   "version": "3.6.9"
  },
  "orig_nbformat": 4,
  "vscode": {
   "interpreter": {
    "hash": "31f2aee4e71d21fbe5cf8b01ff0e069b9275f58929596ceb00d14d90e3e16cd6"
   }
  }
 },
 "nbformat": 4,
 "nbformat_minor": 2
}
