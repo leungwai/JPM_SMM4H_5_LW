{
 "cells": [
  {
   "cell_type": "markdown",
   "metadata": {},
   "source": [
    "Leung Wai Liu <br>\n",
    "JPMC-SMM4H <br>\n",
    "July 14, 2022 <br>\n",
    "Task 5 TOP 5 Majority Ensembling"
   ]
  },
  {
   "cell_type": "code",
   "execution_count": 51,
   "metadata": {},
   "outputs": [],
   "source": [
    "import pandas as pd\n",
    "import numpy as np\n",
    "from collections import Counter\n",
    "from labels_to_ids import task7_labels_to_ids\n",
    "from sklearn.metrics import accuracy_score, classification_report, f1_score, precision_score, recall_score, confusion_matrix\n",
    "import os"
   ]
  },
  {
   "cell_type": "code",
   "execution_count": 52,
   "metadata": {},
   "outputs": [
    {
     "data": {
      "text/html": [
       "<div>\n",
       "<style scoped>\n",
       "    .dataframe tbody tr th:only-of-type {\n",
       "        vertical-align: middle;\n",
       "    }\n",
       "\n",
       "    .dataframe tbody tr th {\n",
       "        vertical-align: top;\n",
       "    }\n",
       "\n",
       "    .dataframe thead th {\n",
       "        text-align: right;\n",
       "    }\n",
       "</style>\n",
       "<table border=\"1\" class=\"dataframe\">\n",
       "  <thead>\n",
       "    <tr style=\"text-align: right;\">\n",
       "      <th></th>\n",
       "      <th>dccuchile/bert-base-spanish-wwm-uncased</th>\n",
       "      <th>dccuchile/bert-base-spanish-wwm-cased</th>\n",
       "      <th>xlm-roberta-base</th>\n",
       "      <th>bert-base-multilingual-uncased</th>\n",
       "      <th>bert-base-multilingual-cased</th>\n",
       "    </tr>\n",
       "  </thead>\n",
       "  <tbody>\n",
       "    <tr>\n",
       "      <th>0</th>\n",
       "      <td>0.706554</td>\n",
       "      <td>0.722016</td>\n",
       "      <td>0.712117</td>\n",
       "      <td>0.732637</td>\n",
       "      <td>0.716880</td>\n",
       "    </tr>\n",
       "    <tr>\n",
       "      <th>1</th>\n",
       "      <td>0.714637</td>\n",
       "      <td>0.698767</td>\n",
       "      <td>0.718595</td>\n",
       "      <td>0.720507</td>\n",
       "      <td>0.718697</td>\n",
       "    </tr>\n",
       "    <tr>\n",
       "      <th>2</th>\n",
       "      <td>0.706063</td>\n",
       "      <td>0.697280</td>\n",
       "      <td>0.711941</td>\n",
       "      <td>0.725631</td>\n",
       "      <td>0.717069</td>\n",
       "    </tr>\n",
       "    <tr>\n",
       "      <th>3</th>\n",
       "      <td>0.705547</td>\n",
       "      <td>0.696304</td>\n",
       "      <td>0.710646</td>\n",
       "      <td>0.721070</td>\n",
       "      <td>0.715650</td>\n",
       "    </tr>\n",
       "    <tr>\n",
       "      <th>4</th>\n",
       "      <td>0.687831</td>\n",
       "      <td>0.710475</td>\n",
       "      <td>0.716102</td>\n",
       "      <td>0.719317</td>\n",
       "      <td>0.712978</td>\n",
       "    </tr>\n",
       "  </tbody>\n",
       "</table>\n",
       "</div>"
      ],
      "text/plain": [
       "   dccuchile/bert-base-spanish-wwm-uncased  \\\n",
       "0                                 0.706554   \n",
       "1                                 0.714637   \n",
       "2                                 0.706063   \n",
       "3                                 0.705547   \n",
       "4                                 0.687831   \n",
       "\n",
       "   dccuchile/bert-base-spanish-wwm-cased  xlm-roberta-base  \\\n",
       "0                               0.722016          0.712117   \n",
       "1                               0.698767          0.718595   \n",
       "2                               0.697280          0.711941   \n",
       "3                               0.696304          0.710646   \n",
       "4                               0.710475          0.716102   \n",
       "\n",
       "   bert-base-multilingual-uncased  bert-base-multilingual-cased  \n",
       "0                        0.732637                      0.716880  \n",
       "1                        0.720507                      0.718697  \n",
       "2                        0.725631                      0.717069  \n",
       "3                        0.721070                      0.715650  \n",
       "4                        0.719317                      0.712978  "
      ]
     },
     "execution_count": 52,
     "metadata": {},
     "output_type": "execute_result"
    }
   ],
   "source": [
    "# Loading up all the predictions data\n",
    "\n",
    "n_rnds = 5\n",
    "original_df = pd.read_csv('../Datasets/dev.tsv', sep='\\t')\n",
    "models = ['dccuchile/bert-base-spanish-wwm-uncased', 'dccuchile/bert-base-spanish-wwm-cased', 'xlm-roberta-base', 'bert-base-multilingual-uncased', 'bert-base-multilingual-cased']\n",
    "n_models = len(models)\n",
    "\n",
    "epoch_string = '../15_epochs_small_model/eval_testing/saved_eval_test_result_5'\n",
    "n_rows = len(original_df)\n",
    "\n",
    "labels_to_ids = task7_labels_to_ids\n",
    "ids_to_labels = dict((v,k) for k,v in labels_to_ids.items())\n",
    "\n",
    "# Loading up all of the results\n",
    "best_f1 = pd.read_csv('../15_epochs_small_model/training_predictions/validating_statistics/all_best_f1_score.tsv', sep='\\t')\n",
    "best_f1 = best_f1.drop(columns = ['Unnamed: 0'])\n",
    "best_f1"
   ]
  },
  {
   "cell_type": "code",
   "execution_count": 53,
   "metadata": {},
   "outputs": [
    {
     "name": "stdout",
     "output_type": "stream",
     "text": [
      "[('bert-base-multilingual-uncased', 0, 0.7326374302914448), ('bert-base-multilingual-uncased', 2, 0.7256314672463325), ('dccuchile/bert-base-spanish-wwm-cased', 0, 0.7220158039937012)]\n"
     ]
    }
   ],
   "source": [
    "# sorting the best f1 scores \n",
    "sorted_f1 = [] \n",
    "\n",
    "for model in models:\n",
    "    for rnd in range(n_rnds):\n",
    "        f1_value = best_f1.at[rnd, model]\n",
    "        sorted_f1.append((model, rnd, f1_value))\n",
    "\n",
    "sorted_f1.sort(key = lambda y: y[2], reverse=True)\n",
    "\n",
    "sorted_f1 = sorted_f1[0:3]\n",
    "print(sorted_f1)"
   ]
  },
  {
   "cell_type": "code",
   "execution_count": 54,
   "metadata": {},
   "outputs": [
    {
     "name": "stdout",
     "output_type": "stream",
     "text": [
      "../15_epochs_small_model/eval_testing/saved_eval_test_result_5/bert-base-multilingual-uncased/0/unformatted_eval_test_result.tsv\n",
      "../15_epochs_small_model/eval_testing/saved_eval_test_result_5/bert-base-multilingual-uncased/2/unformatted_eval_test_result.tsv\n",
      "../15_epochs_small_model/eval_testing/saved_eval_test_result_5/dccuchile/bert-base-spanish-wwm-cased/0/unformatted_eval_test_result.tsv\n"
     ]
    }
   ],
   "source": [
    "# Retrieving all the predictions from the \n",
    "list_of_df = []\n",
    "\n",
    "for model_row in range(len(sorted_f1)):\n",
    "    to_read_string = epoch_string + '/' + sorted_f1[model_row][0] + '/' + str(sorted_f1[model_row][1]) + '/unformatted_eval_test_result.tsv'\n",
    "    print(to_read_string)     \n",
    "    particular_model_df = pd.read_csv(to_read_string, sep='\\t')\n",
    "    \n",
    "list_of_df.append(particular_model_df)"
   ]
  },
  {
   "cell_type": "code",
   "execution_count": 55,
   "metadata": {},
   "outputs": [],
   "source": [
    "# TAKING THE MAJORITY OF DATA\n",
    "\n",
    "majority_original_tweet_id_list = []\n",
    "majority_original_sentence_list = []\n",
    "majority_original_label_list = []\n",
    "majority_original_numbered_label_list = []\n",
    "\n",
    "majority_predicted_number_results = []\n",
    "majority_predicted_results = []\n",
    "\n",
    "\n",
    "for index, row in original_df.iterrows(): \n",
    "    # getting the original values in the tweet\n",
    "    original_tweet_id = row['tweet_id']\n",
    "    original_sentence = row['tweet_text']\n",
    "    original_label = row['label']\n",
    "    \n",
    "    # transferring the labels over to final list\n",
    "    majority_original_tweet_id_list.append(original_tweet_id)\n",
    "    majority_original_sentence_list.append(original_sentence)\n",
    "    majority_original_label_list.append(original_label)\n",
    "    \n",
    "    specific_row_results = []\n",
    "    # go through every models' row of data \n",
    "    \n",
    "    for model_row in range(len(list_of_df)):\n",
    "            # print(list_of_df[model_num][rnd_num])\n",
    "        particular_row_df = list_of_df[model_row]\n",
    "        row = particular_row_df.loc[(particular_row_df['tweet_id'] == original_tweet_id) & (particular_row_df['text'] == original_sentence)]\n",
    "            \n",
    "        prediction = labels_to_ids[row['label'].values[0]]\n",
    "        specific_row_results.append(prediction)\n",
    "\n",
    "    specific_row_results = Counter(specific_row_results)\n",
    "    specific_row_results = specific_row_results.most_common(1)[0][0]\n",
    "    majority_predicted_results.append(ids_to_labels[specific_row_results])\n",
    "    "
   ]
  },
  {
   "cell_type": "code",
   "execution_count": 56,
   "metadata": {},
   "outputs": [
    {
     "name": "stdout",
     "output_type": "stream",
     "text": [
      "ACCURACY: 0.8334328358208956\n",
      "F1: 0.7358288770053475\n",
      "PRECISION: 0.655862726406101\n",
      "RECALL 0.8380024360535931\n"
     ]
    }
   ],
   "source": [
    "# Calculating sklearn metrics\n",
    "\n",
    "majority_original_numbered_label_list = [labels_to_ids[label] for label in majority_original_label_list]\n",
    "majority_predicted_number_results = [labels_to_ids[label] for label in majority_predicted_results]\n",
    "\n",
    "accuracy_result = accuracy_score(majority_original_numbered_label_list, majority_predicted_number_results)\n",
    "f1_result = f1_score(majority_original_numbered_label_list, majority_predicted_number_results, labels=[0], average=None)[0]\n",
    "precision_result = precision_score(majority_original_numbered_label_list, majority_predicted_number_results, labels=[0], average=None)[0]\n",
    "recall_result = recall_score(majority_original_numbered_label_list, majority_predicted_number_results, labels=[0], average=None)[0]\n",
    "\n",
    "confusion_matrix_result = confusion_matrix(majority_original_numbered_label_list, majority_predicted_number_results)\n",
    "classification_result = classification_report(majority_original_numbered_label_list, majority_predicted_number_results, output_dict=True)\n",
    "\n",
    "print(\"ACCURACY:\", accuracy_result)\n",
    "print(\"F1:\", f1_result)\n",
    "print(\"PRECISION:\", precision_result)\n",
    "print(\"RECALL\", recall_result)\n",
    "\n",
    "# Saving results to file\n",
    "os.makedirs('../15_epochs_small_model/eval_testing/eval_validation_statistics_top_5/majority_ensemble', exist_ok=True)\n",
    "\n",
    "with open('../15_epochs_small_model/eval_testing/eval_validation_statistics_top_5/majority_ensemble/majority_ensemble_valid_stats.txt', 'w') as file:\n",
    "        file.write(\"Accuracy: \" + str(accuracy_result) + \"\\n\")\n",
    "        file.write(\"F1 Score (of self_reports): \" + str(f1_result) + \"\\n\")\n",
    "        file.write(\"Precison Score (of self_reports): \" + str(precision_result) + \"\\n\")\n",
    "        file.write(\"Recall result (of self_reports): \" + str(recall_result) + \"\\n\")\n",
    "\n",
    "\n",
    "cm_df = pd.DataFrame(confusion_matrix_result)\n",
    "cr_df = pd.DataFrame(classification_result).transpose()\n",
    "\n",
    "cm_df.to_csv('../15_epochs_small_model/eval_testing/eval_validation_statistics_top_5/majority_ensemble/majority_confusion_matrix.tsv', sep='\\t')\n",
    "cr_df.to_csv('../15_epochs_small_model/eval_testing/eval_validation_statistics_top_5/majority_ensemble/majority_classification_report.tsv', sep='\\t')\n",
    "\n",
    "\n"
   ]
  },
  {
   "cell_type": "code",
   "execution_count": 57,
   "metadata": {},
   "outputs": [],
   "source": [
    "# Saving it as a dataframe\n",
    "unformatted_majority_prediction_data = pd.DataFrame(zip(majority_original_tweet_id_list, majority_original_sentence_list, majority_original_label_list, majority_predicted_results), columns=['tweet_id', 'text', 'Orig', 'label'])\n",
    "formatted_majority_prediction_data = unformatted_majority_prediction_data.drop(columns = ['Orig'])\n",
    "\n",
    "# Saving it as a tsv file\n",
    "os.makedirs('../15_epochs_small_model/eval_testing/eval_validation_statistics_top_5/', exist_ok=True)\n",
    "unformatted_majority_prediction_data.to_csv('../15_epochs_small_model/eval_testing/eval_validation_statistics_top_5/majority_ensemble/unformatted_majority_data.tsv', sep='\\t', index=False)\n",
    "formatted_majority_prediction_data.to_csv('../15_epochs_small_model/eval_testing/eval_validation_statistics_top_5/majority_ensemble/formatted_majority_data.tsv', sep='\\t', index=False)"
   ]
  }
 ],
 "metadata": {
  "kernelspec": {
   "display_name": "Python 3.6.9 64-bit",
   "language": "python",
   "name": "python3"
  },
  "language_info": {
   "codemirror_mode": {
    "name": "ipython",
    "version": 3
   },
   "file_extension": ".py",
   "mimetype": "text/x-python",
   "name": "python",
   "nbconvert_exporter": "python",
   "pygments_lexer": "ipython3",
   "version": "3.6.9"
  },
  "orig_nbformat": 4,
  "vscode": {
   "interpreter": {
    "hash": "31f2aee4e71d21fbe5cf8b01ff0e069b9275f58929596ceb00d14d90e3e16cd6"
   }
  }
 },
 "nbformat": 4,
 "nbformat_minor": 2
}
