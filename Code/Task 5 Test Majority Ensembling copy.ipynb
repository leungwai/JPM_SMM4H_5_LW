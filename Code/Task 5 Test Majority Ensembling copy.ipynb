{
 "cells": [
  {
   "cell_type": "markdown",
   "metadata": {},
   "source": [
    "Leung Wai Liu <br>\n",
    "JPMC-SMM4H <br>\n",
    "July 14, 2022 <br>\n",
    "Task 5 TEST Majority Ensembling"
   ]
  },
  {
   "cell_type": "code",
   "execution_count": 16,
   "metadata": {},
   "outputs": [],
   "source": [
    "import pandas as pd\n",
    "import numpy as np\n",
    "from collections import Counter\n",
    "from labels_to_ids import task7_labels_to_ids\n",
    "from sklearn.metrics import accuracy_score, classification_report, f1_score, precision_score, recall_score, confusion_matrix\n",
    "import os"
   ]
  },
  {
   "cell_type": "code",
   "execution_count": 17,
   "metadata": {},
   "outputs": [],
   "source": [
    "# Loading up all the predictions data\n",
    "\n",
    "n_rnds = 5\n",
    "original_df = pd.read_csv('../Datasets/test.tsv', sep='\\t')\n",
    "models = ['dccuchile/bert-base-spanish-wwm-uncased', 'dccuchile/bert-base-spanish-wwm-cased', 'xlm-roberta-base', 'bert-base-multilingual-uncased', 'bert-base-multilingual-cased']\n",
    "n_models = len(models)\n",
    "\n",
    "epoch_string = '../15_epochs_small_model/saved_test_result_5'\n",
    "n_rows = len(original_df)\n",
    "\n",
    "labels_to_ids = task7_labels_to_ids\n",
    "ids_to_labels = dict((v,k) for k,v in labels_to_ids.items())\n",
    "\n"
   ]
  },
  {
   "cell_type": "code",
   "execution_count": 18,
   "metadata": {},
   "outputs": [],
   "source": [
    "# Retrieving all the predictions from the \n",
    "list_of_df = []\n",
    "\n",
    "for model in models: \n",
    "    specific_model_row = []\n",
    "    for rnd in range(n_rnds):\n",
    "        to_read_string = epoch_string + '/' + model + '/' + str(rnd) + '/unformatted_test_result.tsv'\n",
    "            \n",
    "        particular_model_df = pd.read_csv(to_read_string, sep='\\t')\n",
    "        specific_model_row.append(particular_model_df)\n",
    "    \n",
    "    list_of_df.append(specific_model_row)"
   ]
  },
  {
   "cell_type": "code",
   "execution_count": 19,
   "metadata": {},
   "outputs": [],
   "source": [
    "# TAKING THE MAJORITY OF DATA\n",
    "\n",
    "majority_original_tweet_id_list = []\n",
    "majority_original_sentence_list = []\n",
    "\n",
    "majority_predicted_number_results = []\n",
    "majority_predicted_results = []\n",
    "\n",
    "\n",
    "for index, row in original_df.iterrows(): \n",
    "    # getting the original values in the tweet\n",
    "    original_tweet_id = row['tweet_id']\n",
    "    original_sentence = row['tweet_text']\n",
    "    \n",
    "    # transferring the labels over to final list\n",
    "    majority_original_tweet_id_list.append(original_tweet_id)\n",
    "    majority_original_sentence_list.append(original_sentence)\n",
    "    \n",
    "    specific_row_results = []\n",
    "    # go through every models' row of data \n",
    "    \n",
    "    for model_num in range(n_models):\n",
    "        for rnd_num in range(n_rnds):\n",
    "            # print(list_of_df[model_num][rnd_num])\n",
    "            row = list_of_df[model_num][rnd_num].loc[(list_of_df[model_num][rnd_num]['tweet_id'] == original_tweet_id) & (list_of_df[model_num][rnd_num]['text'] == original_sentence)]\n",
    "            \n",
    "            prediction = labels_to_ids[row['label'].values[0]]\n",
    "            specific_row_results.append(prediction)\n",
    "\n",
    "    specific_row_results = Counter(specific_row_results)\n",
    "    specific_row_results = specific_row_results.most_common(1)[0][0]\n",
    "    majority_predicted_results.append(ids_to_labels[specific_row_results])\n",
    "    "
   ]
  },
  {
   "cell_type": "code",
   "execution_count": 20,
   "metadata": {},
   "outputs": [],
   "source": [
    "# Saving it as a dataframe\n",
    "unformatted_majority_prediction_data = pd.DataFrame(zip(majority_original_tweet_id_list, majority_original_sentence_list, majority_predicted_results), columns=['tweet_id', 'text', 'label'])\n",
    "formatted_majority_prediction_data = unformatted_majority_prediction_data.drop(columns = ['text'])\n",
    "\n",
    "# Saving it as a tsv file\n",
    "os.makedirs('../15_epochs_small_model/testing_predictions/', exist_ok=True)\n",
    "unformatted_majority_prediction_data.to_csv('../15_epochs_small_model/testing_predictions/unformatted_majority_data.tsv', sep='\\t', index=False)\n",
    "formatted_majority_prediction_data.to_csv('../15_epochs_small_model/testing_predictions/formatted_majority_data.tsv', sep='\\t', index=False)"
   ]
  }
 ],
 "metadata": {
  "kernelspec": {
   "display_name": "Python 3.6.9 64-bit",
   "language": "python",
   "name": "python3"
  },
  "language_info": {
   "codemirror_mode": {
    "name": "ipython",
    "version": 3
   },
   "file_extension": ".py",
   "mimetype": "text/x-python",
   "name": "python",
   "nbconvert_exporter": "python",
   "pygments_lexer": "ipython3",
   "version": "3.6.9"
  },
  "orig_nbformat": 4,
  "vscode": {
   "interpreter": {
    "hash": "31f2aee4e71d21fbe5cf8b01ff0e069b9275f58929596ceb00d14d90e3e16cd6"
   }
  }
 },
 "nbformat": 4,
 "nbformat_minor": 2
}
