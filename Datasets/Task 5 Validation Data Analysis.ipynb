{
 "cells": [
  {
   "cell_type": "code",
   "execution_count": 1,
   "metadata": {},
   "outputs": [],
   "source": [
    "import pandas as pd\n",
    "import matplotlib.pyplot as plt\n",
    "import numpy as np"
   ]
  },
  {
   "cell_type": "code",
   "execution_count": 2,
   "metadata": {},
   "outputs": [
    {
     "data": {
      "text/html": [
       "<div>\n",
       "<style scoped>\n",
       "    .dataframe tbody tr th:only-of-type {\n",
       "        vertical-align: middle;\n",
       "    }\n",
       "\n",
       "    .dataframe tbody tr th {\n",
       "        vertical-align: top;\n",
       "    }\n",
       "\n",
       "    .dataframe thead th {\n",
       "        text-align: right;\n",
       "    }\n",
       "</style>\n",
       "<table border=\"1\" class=\"dataframe\">\n",
       "  <thead>\n",
       "    <tr style=\"text-align: right;\">\n",
       "      <th></th>\n",
       "      <th>tweet_id</th>\n",
       "      <th>tweet_text</th>\n",
       "    </tr>\n",
       "  </thead>\n",
       "  <tbody>\n",
       "    <tr>\n",
       "      <th>0</th>\n",
       "      <td>107883</td>\n",
       "      <td>Muy preocupau con la noticia. Doblegar la curv...</td>\n",
       "    </tr>\n",
       "    <tr>\n",
       "      <th>1</th>\n",
       "      <td>107720</td>\n",
       "      <td>@MoChao33 @carmenvivomivid @SalvaGarca4 @Hondo...</td>\n",
       "    </tr>\n",
       "    <tr>\n",
       "      <th>2</th>\n",
       "      <td>107268</td>\n",
       "      <td>Si ha sido vacunado contra el #COVID19 y prese...</td>\n",
       "    </tr>\n",
       "    <tr>\n",
       "      <th>3</th>\n",
       "      <td>302934</td>\n",
       "      <td>Las vacunas 3 y hablamos inminidad vivo ➡️ Son...</td>\n",
       "    </tr>\n",
       "    <tr>\n",
       "      <th>4</th>\n",
       "      <td>302479</td>\n",
       "      <td>Hola @Liberbank ! ¿Puedo solicitar la línea de...</td>\n",
       "    </tr>\n",
       "    <tr>\n",
       "      <th>...</th>\n",
       "      <td>...</td>\n",
       "      <td>...</td>\n",
       "    </tr>\n",
       "    <tr>\n",
       "      <th>3572</th>\n",
       "      <td>107910</td>\n",
       "      <td>#ElParoEs #EsElMomentoDeParar28A#TodosALaCalle...</td>\n",
       "    </tr>\n",
       "    <tr>\n",
       "      <th>3573</th>\n",
       "      <td>107903</td>\n",
       "      <td>Esta es la razón por la que la COVID-19 hace q...</td>\n",
       "    </tr>\n",
       "    <tr>\n",
       "      <th>3574</th>\n",
       "      <td>106467</td>\n",
       "      <td>El Gobierno oficializó el protocolo para trata...</td>\n",
       "    </tr>\n",
       "    <tr>\n",
       "      <th>3575</th>\n",
       "      <td>106159</td>\n",
       "      <td>🔵🔴#ATENCIÓN | El ministro del Ambiente, @GQuij...</td>\n",
       "    </tr>\n",
       "    <tr>\n",
       "      <th>3576</th>\n",
       "      <td>106241</td>\n",
       "      <td>Relatos de pacientes positivos covid 19 que qu...</td>\n",
       "    </tr>\n",
       "  </tbody>\n",
       "</table>\n",
       "<p>3577 rows × 2 columns</p>\n",
       "</div>"
      ],
      "text/plain": [
       "      tweet_id                                         tweet_text\n",
       "0       107883  Muy preocupau con la noticia. Doblegar la curv...\n",
       "1       107720  @MoChao33 @carmenvivomivid @SalvaGarca4 @Hondo...\n",
       "2       107268  Si ha sido vacunado contra el #COVID19 y prese...\n",
       "3       302934  Las vacunas 3 y hablamos inminidad vivo ➡️ Son...\n",
       "4       302479  Hola @Liberbank ! ¿Puedo solicitar la línea de...\n",
       "...        ...                                                ...\n",
       "3572    107910  #ElParoEs #EsElMomentoDeParar28A#TodosALaCalle...\n",
       "3573    107903  Esta es la razón por la que la COVID-19 hace q...\n",
       "3574    106467  El Gobierno oficializó el protocolo para trata...\n",
       "3575    106159  🔵🔴#ATENCIÓN | El ministro del Ambiente, @GQuij...\n",
       "3576    106241  Relatos de pacientes positivos covid 19 que qu...\n",
       "\n",
       "[3577 rows x 2 columns]"
      ]
     },
     "execution_count": 2,
     "metadata": {},
     "output_type": "execute_result"
    }
   ],
   "source": [
    "df = pd.read_table('task5_validation_user_NOlabel.tsv')\n",
    "df"
   ]
  },
  {
   "cell_type": "code",
   "execution_count": null,
   "metadata": {},
   "outputs": [],
   "source": []
  }
 ],
 "metadata": {
  "kernelspec": {
   "display_name": "Python 3.6.9 64-bit",
   "language": "python",
   "name": "python3"
  },
  "language_info": {
   "codemirror_mode": {
    "name": "ipython",
    "version": 3
   },
   "file_extension": ".py",
   "mimetype": "text/x-python",
   "name": "python",
   "nbconvert_exporter": "python",
   "pygments_lexer": "ipython3",
   "version": "3.6.9"
  },
  "orig_nbformat": 4,
  "vscode": {
   "interpreter": {
    "hash": "31f2aee4e71d21fbe5cf8b01ff0e069b9275f58929596ceb00d14d90e3e16cd6"
   }
  }
 },
 "nbformat": 4,
 "nbformat_minor": 2
}
